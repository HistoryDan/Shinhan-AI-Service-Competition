{
 "cells": [
  {
   "cell_type": "code",
   "execution_count": 1,
   "id": "d790f8c5",
   "metadata": {},
   "outputs": [],
   "source": [
    "import pandas as pd\n",
    "import numpy as np\n",
    "from selenium import webdriver\n",
    "from bs4 import BeautifulSoup\n",
    "import time"
   ]
  },
  {
   "cell_type": "code",
   "execution_count": 2,
   "id": "68f92abe",
   "metadata": {},
   "outputs": [
    {
     "name": "stderr",
     "output_type": "stream",
     "text": [
      "/var/folders/z6/nn0fl27x39547ybzc5y11s8m0000gn/T/ipykernel_5593/1994811183.py:4: DeprecationWarning: executable_path has been deprecated, please pass in a Service object\n",
      "  driver = webdriver.Chrome('/Users/parkjunhyeong/Downloads/chromedriver', options=options)\n"
     ]
    }
   ],
   "source": [
    "# Selenium 드라이버 실행\n",
    "options = webdriver.ChromeOptions()\n",
    "options.add_argument('headless')  # Chrome 창 숨기기 옵션\n",
    "driver = webdriver.Chrome('/Users/parkjunhyeong/Downloads/chromedriver', options=options)\n",
    "\n",
    "# 네이버 증권 뉴스 페이지로 이동\n",
    "driver.get('https://finance.naver.com/news/mainnews.naver')\n",
    "\n",
    "# 페이지 로딩을 위해 3초 대기\n",
    "time.sleep(3)\n",
    "\n",
    "# 페이지 소스코드 가져오기\n",
    "html = driver.page_source\n",
    "soup = BeautifulSoup(html, 'html.parser')\n",
    "\n",
    "# 뉴스 제목 추출하기\n",
    "src = soup.select('.articleSubject')\n",
    "news_titles  = [news.text for news in src]\n",
    "news_titles = [news.replace(\"\\n\", \"\") for news in news_titles]\n",
    "\n",
    "\n",
    "#뉴스 링크 추출하기\n",
    "news_links = []\n",
    "base_url = 'https://finance.naver.com/'\n",
    "\n",
    "for s in src:\n",
    "    end = str(s.a).find(\">\")\n",
    "    link = str(s.a)[9:end-1]\n",
    "    link = base_url + link.replace(\"amp;\",\"\")\n",
    "    news_links.append(link)\n",
    "\n",
    "#뉴스 내용 추출하기\n",
    "news_contents = []\n",
    "for link in news_links:\n",
    "    driver.get(link)\n",
    "    time.sleep(2)\n",
    "    html = driver.page_source\n",
    "    soup = BeautifulSoup(html, 'html.parser')\n",
    "    content = soup.select('.articleCont')[0].text.strip()\n",
    "    news_contents.append(content)\n",
    "\n",
    "# 드라이버 종료\n",
    "driver.quit()"
   ]
  },
  {
   "cell_type": "code",
   "execution_count": 3,
   "id": "60fd8ab7",
   "metadata": {},
   "outputs": [
    {
     "data": {
      "text/html": [
       "<div>\n",
       "<style scoped>\n",
       "    .dataframe tbody tr th:only-of-type {\n",
       "        vertical-align: middle;\n",
       "    }\n",
       "\n",
       "    .dataframe tbody tr th {\n",
       "        vertical-align: top;\n",
       "    }\n",
       "\n",
       "    .dataframe thead th {\n",
       "        text-align: right;\n",
       "    }\n",
       "</style>\n",
       "<table border=\"1\" class=\"dataframe\">\n",
       "  <thead>\n",
       "    <tr style=\"text-align: right;\">\n",
       "      <th></th>\n",
       "      <th>제목</th>\n",
       "      <th>링크</th>\n",
       "      <th>본문</th>\n",
       "    </tr>\n",
       "  </thead>\n",
       "  <tbody>\n",
       "    <tr>\n",
       "      <th>0</th>\n",
       "      <td>'SG 사태' 잠잠해지지만...금융 위기 리스크 여전 [주간증시전망]</td>\n",
       "      <td>https://finance.naver.com//news/news_read.nave...</td>\n",
       "      <td>코스피지수가 전날보다 0.02% 내린 2,500.94로 집계된 지난 4일 오후 서울...</td>\n",
       "    </tr>\n",
       "    <tr>\n",
       "      <th>1</th>\n",
       "      <td>[이번주 증시] 실적 시즌 본격화에 종목간 차별화 전망</td>\n",
       "      <td>https://finance.naver.com//news/news_read.nave...</td>\n",
       "      <td>코스피 예상 밴드 2420~2550이번주 증시는 상장사들의 양호한 1분기 실적에 힘...</td>\n",
       "    </tr>\n",
       "    <tr>\n",
       "      <th>2</th>\n",
       "      <td>[펀드와치]르세라핌·에스파 줄컴백…춤추는 K팝 ETF</td>\n",
       "      <td>https://finance.naver.com//news/news_read.nave...</td>\n",
       "      <td>주식형 펀드 국내 +1.02% 해외 +1.63%엔터사 담은 K팝·메타버스 ETF 수...</td>\n",
       "    </tr>\n",
       "    <tr>\n",
       "      <th>3</th>\n",
       "      <td>美금리인상 넘은 증시…실적발표 속 변동성장세[주간증시전망]</td>\n",
       "      <td>https://finance.naver.com//news/news_read.nave...</td>\n",
       "      <td>베이비스텝 밟은 FOMC, 시장은 \"금리인상 끝\"美 CPI 발표·부채한도 협상에 주...</td>\n",
       "    </tr>\n",
       "  </tbody>\n",
       "</table>\n",
       "</div>"
      ],
      "text/plain": [
       "                                        제목  \\\n",
       "0   'SG 사태' 잠잠해지지만...금융 위기 리스크 여전 [주간증시전망]   \n",
       "1           [이번주 증시] 실적 시즌 본격화에 종목간 차별화 전망   \n",
       "2            [펀드와치]르세라핌·에스파 줄컴백…춤추는 K팝 ETF   \n",
       "3         美금리인상 넘은 증시…실적발표 속 변동성장세[주간증시전망]   \n",
       "\n",
       "                                                  링크  \\\n",
       "0  https://finance.naver.com//news/news_read.nave...   \n",
       "1  https://finance.naver.com//news/news_read.nave...   \n",
       "2  https://finance.naver.com//news/news_read.nave...   \n",
       "3  https://finance.naver.com//news/news_read.nave...   \n",
       "\n",
       "                                                  본문  \n",
       "0  코스피지수가 전날보다 0.02% 내린 2,500.94로 집계된 지난 4일 오후 서울...  \n",
       "1  코스피 예상 밴드 2420~2550이번주 증시는 상장사들의 양호한 1분기 실적에 힘...  \n",
       "2  주식형 펀드 국내 +1.02% 해외 +1.63%엔터사 담은 K팝·메타버스 ETF 수...  \n",
       "3  베이비스텝 밟은 FOMC, 시장은 \"금리인상 끝\"美 CPI 발표·부채한도 협상에 주...  "
      ]
     },
     "execution_count": 3,
     "metadata": {},
     "output_type": "execute_result"
    }
   ],
   "source": [
    "df = pd.DataFrame(columns = ['제목', '링크', '본문'])\n",
    "df['제목'] = news_titles\n",
    "df['링크'] = news_links\n",
    "df['본문'] = news_contents\n",
    "\n",
    "df"
   ]
  },
  {
   "cell_type": "code",
   "execution_count": 4,
   "id": "bbe8151b",
   "metadata": {},
   "outputs": [],
   "source": [
    "df.to_excel('네이버 뉴스.xlsx')"
   ]
  },
  {
   "cell_type": "code",
   "execution_count": null,
   "id": "f565916b",
   "metadata": {},
   "outputs": [],
   "source": []
  }
 ],
 "metadata": {
  "kernelspec": {
   "display_name": "Python 3 (ipykernel)",
   "language": "python",
   "name": "python3"
  },
  "language_info": {
   "codemirror_mode": {
    "name": "ipython",
    "version": 3
   },
   "file_extension": ".py",
   "mimetype": "text/x-python",
   "name": "python",
   "nbconvert_exporter": "python",
   "pygments_lexer": "ipython3",
   "version": "3.9.12"
  }
 },
 "nbformat": 4,
 "nbformat_minor": 5
}
