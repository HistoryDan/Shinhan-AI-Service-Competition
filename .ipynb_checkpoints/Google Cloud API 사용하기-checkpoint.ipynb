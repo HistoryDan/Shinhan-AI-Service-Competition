{
 "cells": [
  {
   "cell_type": "code",
   "execution_count": 291,
   "id": "3b0e521a",
   "metadata": {},
   "outputs": [],
   "source": [
    "#필요 모듈 임포트\n",
    "from google.cloud import texttospeech\n",
    "from google.cloud import speech\n",
    "from pydub import AudioSegment\n",
    "from konlpy.tag import Okt\n",
    "from konlpy.tag import Kkma\n",
    "import pandas as pd\n",
    "import numpy as np\n",
    "import os\n",
    "import io"
   ]
  },
  {
   "cell_type": "markdown",
   "id": "7c278ef9",
   "metadata": {},
   "source": [
    "# 1. Google Cloud Text-To-Speech API 사용하기"
   ]
  },
  {
   "cell_type": "code",
   "execution_count": 170,
   "id": "a2746752",
   "metadata": {},
   "outputs": [],
   "source": [
    "os.environ['GOOGLE_APPLICATION_CREDENTIALS'] = './tts_key.json' #경로 자기에 맞게 설정\n",
    "\n",
    "def synthesize_text(text):\n",
    "    client = texttospeech.TextToSpeechClient()\n",
    "\n",
    "    input_text = texttospeech.SynthesisInput(text=text)\n",
    "\n",
    "    voice = texttospeech.VoiceSelectionParams(\n",
    "        language_code='ko-KR',\n",
    "        ssml_gender=texttospeech.SsmlVoiceGender.NEUTRAL)\n",
    "\n",
    "    audio_config = texttospeech.AudioConfig(\n",
    "        audio_encoding=texttospeech.AudioEncoding.LINEAR16)\n",
    "\n",
    "    response = client.synthesize_speech(\n",
    "        input=input_text,\n",
    "        voice=voice,\n",
    "        audio_config=audio_config)\n",
    "\n",
    "    with open('output.mp3', 'wb') as out:\n",
    "        out.write(response.audio_content)"
   ]
  },
  {
   "cell_type": "code",
   "execution_count": 171,
   "id": "7b232c62",
   "metadata": {},
   "outputs": [],
   "source": [
    "#text to speech 실행하기\n",
    "synthesize_text(\"삼성전자에 대해 알려줘.\")"
   ]
  },
  {
   "cell_type": "markdown",
   "id": "81eca916",
   "metadata": {},
   "source": [
    "# 2. Google Cloud Speech-To-Text API 사용하기"
   ]
  },
  {
   "cell_type": "markdown",
   "id": "e5019d3a",
   "metadata": {},
   "source": [
    "## 2-1. 음성 파일 wav파일로 변환하기"
   ]
  },
  {
   "cell_type": "code",
   "execution_count": 263,
   "id": "c4ba0430",
   "metadata": {},
   "outputs": [],
   "source": [
    "m4a_file = './019.m4a'\n",
    "wav_filename = './019.wav'\n",
    "track = AudioSegment.from_file(m4a_file,  format= 'm4a')\n",
    "file_handle = track.export(wav_filename, format='wav')"
   ]
  },
  {
   "cell_type": "markdown",
   "id": "69122e7d",
   "metadata": {},
   "source": [
    "## 2-2. 음성파일 텍스트로 변환하기"
   ]
  },
  {
   "cell_type": "code",
   "execution_count": 277,
   "id": "4f447cf8",
   "metadata": {},
   "outputs": [],
   "source": [
    "client = speech.SpeechClient.from_service_account_json('./stt_key.json')\n",
    "\n",
    "def transcribe_file(speech_file):\n",
    "    with io.open(speech_file, 'rb') as audio_file:\n",
    "        content = audio_file.read()\n",
    "\n",
    "    audio = speech.RecognitionAudio(content=content)\n",
    "\n",
    "# 파일 인코딩 형식에 맞게 그때 그때 변경해주어야 함\n",
    "    config = speech.RecognitionConfig(\n",
    "#         encoding='LINEAR16',\n",
    "#         sample_rate_hertz=44100, \n",
    "        language_code='ko-KR',\n",
    "        model='default',\n",
    "        enable_word_time_offsets=True,\n",
    "        enable_automatic_punctuation=True\n",
    "    )\n",
    "\n",
    "    response = client.recognize(config=config, audio=audio)\n",
    "\n",
    "    for result in response.results:\n",
    "        print('{}'.format(result.alternatives[0].transcript))\n",
    "        return result.alternatives[0].transcript"
   ]
  },
  {
   "cell_type": "code",
   "execution_count": 278,
   "id": "4379f62d",
   "metadata": {},
   "outputs": [
    {
     "name": "stdout",
     "output_type": "stream",
     "text": [
      "삼성전자에 대해서 알려 줘.\n"
     ]
    }
   ],
   "source": [
    "text = transcribe_file('./019.wav')"
   ]
  },
  {
   "cell_type": "markdown",
   "id": "9bac872b",
   "metadata": {},
   "source": [
    "## 2-3. 인풋으로 받은 텍스트에서 주식 종목 추출하기"
   ]
  },
  {
   "cell_type": "code",
   "execution_count": 295,
   "id": "ee5c2884",
   "metadata": {},
   "outputs": [],
   "source": [
    "#kospi 상장 기업 목록 가져오기\n",
    "krx = pd.read_csv('/Users/parkjunhyeong/Desktop/박준형/02. 대내 및 대외활동/02. 대외활동/03. 신한AI 공모전/01. 소스/01. 데이터/KRX_data.csv')\n",
    "companies = krx['Name'].tolist()"
   ]
  },
  {
   "cell_type": "code",
   "execution_count": 284,
   "id": "8c86edf5",
   "metadata": {},
   "outputs": [],
   "source": [
    "kkma = Kkma()"
   ]
  },
  {
   "cell_type": "code",
   "execution_count": 289,
   "id": "7f94c1cf",
   "metadata": {},
   "outputs": [
    {
     "name": "stdout",
     "output_type": "stream",
     "text": [
      "OKT 명사 추출 : ['삼성', '삼성전자', '전자']\n"
     ]
    }
   ],
   "source": [
    "nouns = kkma.nouns(text)\n",
    "print('Kkma 명사 추출 :', nouns)"
   ]
  },
  {
   "cell_type": "code",
   "execution_count": 296,
   "id": "c26ed7f1",
   "metadata": {},
   "outputs": [],
   "source": [
    "company = None\n",
    "found = \"no\"\n",
    "\n",
    "for n in nouns:\n",
    "    if n in companies:\n",
    "        company = n\n",
    "        found = \"yes\"\n",
    "        break\n",
    "        \n",
    "if found == \"no\" :\n",
    "    print(\"Company not here.\")"
   ]
  },
  {
   "cell_type": "code",
   "execution_count": 297,
   "id": "19e63028",
   "metadata": {},
   "outputs": [
    {
     "data": {
      "text/plain": [
       "'삼성전자'"
      ]
     },
     "execution_count": 297,
     "metadata": {},
     "output_type": "execute_result"
    }
   ],
   "source": [
    "company"
   ]
  }
 ],
 "metadata": {
  "kernelspec": {
   "display_name": "Python 3 (ipykernel)",
   "language": "python",
   "name": "python3"
  },
  "language_info": {
   "codemirror_mode": {
    "name": "ipython",
    "version": 3
   },
   "file_extension": ".py",
   "mimetype": "text/x-python",
   "name": "python",
   "nbconvert_exporter": "python",
   "pygments_lexer": "ipython3",
   "version": "3.9.12"
  }
 },
 "nbformat": 4,
 "nbformat_minor": 5
}
