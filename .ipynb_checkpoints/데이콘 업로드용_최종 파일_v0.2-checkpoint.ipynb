{
 "cells": [
  {
   "cell_type": "code",
   "execution_count": 51,
   "metadata": {},
   "outputs": [],
   "source": [
    "#필요 모듈 임포트\n",
    "from google.cloud import texttospeech\n",
    "from google.cloud import speech\n",
    "from pydub import AudioSegment\n",
    "from konlpy.tag import Okt\n",
    "from konlpy.tag import Kkma\n",
    "from selenium import webdriver\n",
    "from bs4 import BeautifulSoup\n",
    "from selenium.webdriver.common.by import By\n",
    "from selenium.webdriver.support.ui import WebDriverWait\n",
    "from selenium.webdriver.support import expected_conditions as EC\n",
    "from selenium.webdriver.common.action_chains import ActionChains\n",
    "from selenium.webdriver.common.keys import Keys\n",
    "import matplotlib.pyplot as plt\n",
    "import FinanceDataReader as fdr\n",
    "import speech_recognition as sr\n",
    "import pandas as pd\n",
    "import numpy as np\n",
    "import datetime\n",
    "import subprocess\n",
    "import time\n",
    "import os\n",
    "import io"
   ]
  },
  {
   "cell_type": "markdown",
   "metadata": {},
   "source": [
    "# 필요 함수 정의"
   ]
  },
  {
   "cell_type": "markdown",
   "metadata": {},
   "source": [
    "## 1) Text To Speech API 사용하는 함수"
   ]
  },
  {
   "cell_type": "code",
   "execution_count": null,
   "metadata": {},
   "outputs": [],
   "source": [
    "#text to speech api 사용하는 함수\n",
    "os.environ['GOOGLE_APPLICATION_CREDENTIALS'] = './tts_key.json' #경로 자기에 맞게 설정\n",
    "\n",
    "def synthesize_text(text, file_name):\n",
    "    client = texttospeech.TextToSpeechClient()\n",
    "\n",
    "    input_text = texttospeech.SynthesisInput(text=text)\n",
    "\n",
    "    voice = texttospeech.VoiceSelectionParams(\n",
    "        language_code='ko-KR',\n",
    "        ssml_gender=texttospeech.SsmlVoiceGender.NEUTRAL)\n",
    "\n",
    "    audio_config = texttospeech.AudioConfig(\n",
    "        audio_encoding=texttospeech.AudioEncoding.LINEAR16)\n",
    "\n",
    "    response = client.synthesize_speech(\n",
    "        input=input_text,\n",
    "        voice=voice,\n",
    "        audio_config=audio_config)\n",
    "\n",
    "    with open(file_name, 'wb') as out:\n",
    "        out.write(response.audio_content)"
   ]
  },
  {
   "cell_type": "markdown",
   "metadata": {},
   "source": [
    "## 2) 음성 데이터 입력받고 텍스트로 변환하는 함수"
   ]
  },
  {
   "cell_type": "code",
   "execution_count": null,
   "metadata": {},
   "outputs": [],
   "source": [
    "#사용자로부터 음성 데이터를 입력받아 텍스트로 변환하여 반환하는 함수\n",
    "def voice_recog():\n",
    "    try:\n",
    "        r = sr.Recognizer()\n",
    "\n",
    "        with sr.Microphone() as source:\n",
    "            print('음성을 입력하세요.')\n",
    "            audio = r.record(source, duration = 10)\n",
    "            try:\n",
    "                print('음성변환 : ' + r.recognize_google(audio, language='ko-KR'))\n",
    "                return r.recognize_google(audio, language='ko-KR')\n",
    "            except sr.UnknownValueError:\n",
    "                print('오디오를 이해할 수 없습니다.')\n",
    "            except sr.RequestError as e:\n",
    "                print(f'에러가 발생하였습니다. 에러원인 : {e}')\n",
    "\n",
    "    except KeyboardInterrupt:\n",
    "        pass"
   ]
  },
  {
   "cell_type": "markdown",
   "metadata": {},
   "source": [
    "## 3) 네이버 증권 주요 뉴스 크롤링하는 함수"
   ]
  },
  {
   "cell_type": "code",
   "execution_count": null,
   "metadata": {},
   "outputs": [],
   "source": [
    "def naver_crawling(path):\n",
    "    # Selenium 드라이버 실행\n",
    "    options = webdriver.ChromeOptions()\n",
    "    options.add_argument('headless')  # Chrome 창 숨기기 옵션\n",
    "    driver = webdriver.Chrome(path + '/chromedriver', options=options) #크롬 드라이버 경로 자기한테 맞게 변경\n",
    "\n",
    "    # 네이버 증권 뉴스 페이지로 이동\n",
    "    driver.get('https://finance.naver.com/news/mainnews.naver')\n",
    "\n",
    "    # 페이지 로딩을 위해 3초 대기\n",
    "    time.sleep(3)\n",
    "\n",
    "    # 페이지 소스코드 가져오기\n",
    "    html = driver.page_source\n",
    "    soup = BeautifulSoup(html, 'html.parser')\n",
    "\n",
    "    # 뉴스 제목 추출하기\n",
    "    src = soup.select('.articleSubject')\n",
    "    news_titles  = [news.text for news in src]\n",
    "    news_titles = [news.replace(\"\\n\", \"\") for news in news_titles]\n",
    "\n",
    "\n",
    "    #뉴스 링크 추출하기\n",
    "    news_links = []\n",
    "    base_url = 'https://finance.naver.com/'\n",
    "\n",
    "    for s in src:\n",
    "        end = str(s.a).find(\">\")\n",
    "        link = str(s.a)[9:end-1]\n",
    "        link = base_url + link.replace(\"amp;\",\"\")\n",
    "        news_links.append(link)\n",
    "\n",
    "    #뉴스 내용 추출하기\n",
    "    news_contents = []\n",
    "    for link in news_links:\n",
    "        driver.get(link)\n",
    "        time.sleep(2)\n",
    "        html = driver.page_source\n",
    "        soup = BeautifulSoup(html, 'html.parser')\n",
    "        content = soup.select('.articleCont')[0].text.strip()\n",
    "        news_contents.append(content)\n",
    "\n",
    "    # 드라이버 종료\n",
    "    driver.quit()\n",
    "\n",
    "    #시장 전반 뉴스 데이터 프레임 형태로 저장하기\n",
    "    df_naver = pd.DataFrame(columns = ['제목', '링크', '본문'])\n",
    "    df_naver['제목'] = news_titles\n",
    "    df_naver['링크'] = news_links\n",
    "    df_naver['본문'] = news_contents\n",
    "    \n",
    "    #결과 데이터프레임 반환\n",
    "    return df_naver"
   ]
  },
  {
   "cell_type": "markdown",
   "metadata": {},
   "source": [
    "## 4) Investing.com 종목별 주요 뉴스 크롤링하는 함수"
   ]
  },
  {
   "cell_type": "code",
   "execution_count": null,
   "metadata": {},
   "outputs": [],
   "source": [
    "def crawling_inv(path, company):\n",
    "    # Selenium 드라이버 실행\n",
    "    options = webdriver.ChromeOptions()\n",
    "    options.add_argument('headless')  # Chrome 창 숨기기 옵션\n",
    "\n",
    "    # 웹 드라이버 경로 설정 \n",
    "    driver_path = path + '/chromedriver'\n",
    "\n",
    "    # Selenium 드라이버 실행\n",
    "    driver = webdriver.Chrome(driver_path)\n",
    "\n",
    "    # kr.investing.com/equities 사이트 접속\n",
    "    driver.get('https://kr.investing.com/equities')\n",
    "\n",
    "    name = company\n",
    "\n",
    "    # 광고 팝업 닫기\n",
    "    try:\n",
    "        popup_close_button = WebDriverWait(driver, 2).until(\n",
    "            EC.presence_of_element_located((By.CSS_SELECTOR, 'i.popupCloseIcon.largeBannerCloser'))\n",
    "        )\n",
    "        popup_close_button.click()\n",
    "    except:\n",
    "        pass\n",
    "\n",
    "    # 검색 입력란에 회사 이름 입력 후 검색 버튼 클릭\n",
    "    search_box = WebDriverWait(driver, 2).until(\n",
    "        EC.presence_of_element_located((By.CSS_SELECTOR, '.searchText.arial_12.lightgrayFont.js-main-search-bar'))\n",
    "    )\n",
    "    search_box.send_keys(name)\n",
    "\n",
    "    search_button = WebDriverWait(driver, 2).until(\n",
    "        EC.presence_of_element_located((By.CSS_SELECTOR, '.searchGlassIcon.js-magnifying-glass-icon'))\n",
    "    )\n",
    "    search_button.click()\n",
    "\n",
    "    # 광고 팝업 닫기\n",
    "    try:\n",
    "        popup_close_button = WebDriverWait(driver, 2).until(\n",
    "            EC.presence_of_element_located((By.CSS_SELECTOR, 'i.popupCloseIcon.largeBannerCloser'))\n",
    "        )\n",
    "        popup_close_button.click()\n",
    "    except:\n",
    "        pass\n",
    "\n",
    "    # 대기 시간 늘리기 및 다른 선택자 사용\n",
    "    article_items = WebDriverWait(driver, 3).until(\n",
    "        EC.presence_of_all_elements_located((By.CSS_SELECTOR, 'div.articleItem'))\n",
    "    )\n",
    "\n",
    "    news_titles = []\n",
    "    news_links = []\n",
    "    news_contents = []\n",
    "\n",
    "    for item in article_items:\n",
    "        # Extract article title\n",
    "        title_element = WebDriverWait(item, 3).until(\n",
    "            EC.presence_of_element_located((By.CSS_SELECTOR, 'a.title'))\n",
    "        )\n",
    "        news_titles.append(title_element.text)\n",
    "\n",
    "        # Extract article link\n",
    "        news_links.append(title_element.get_attribute('href'))\n",
    "\n",
    "        # Extract article content\n",
    "        content_element = WebDriverWait(item, 3).until(\n",
    "            EC.presence_of_element_located((By.CSS_SELECTOR, 'div.textDiv'))\n",
    "        )\n",
    "        news_contents.append(content_element.text)\n",
    "\n",
    "    # 드라이버 종료\n",
    "    driver.quit()\n",
    "\n",
    "    #특정 기업 뉴스 데이터 프레임 형태로 저장하기\n",
    "    df_inv = pd.DataFrame(columns = ['제목', '링크', '본문'])\n",
    "    df_inv['제목'] = news_titles\n",
    "    df_inv['링크'] = news_links\n",
    "    df_inv['본문'] = news_contents\n",
    "\n",
    "    #결과 데이터 프레임 반환\n",
    "    return df_inv"
   ]
  },
  {
   "cell_type": "markdown",
   "metadata": {},
   "source": [
    "## 5) KRX 정보데이터 시스템에서 개별 종목 관련 정보 크롤링하는 함수"
   ]
  },
  {
   "cell_type": "code",
   "execution_count": null,
   "metadata": {},
   "outputs": [],
   "source": [
    "def finance_crawling(path, company):\n",
    "    # 정보를 가져오고 싶은 종목명 입력\n",
    "    name = company\n",
    "\n",
    "    # Selenium 드라이버 실행\n",
    "    options = webdriver.ChromeOptions()\n",
    "    options.add_argument('headless')  # Chrome 창 숨기기 옵션\n",
    "\n",
    "    # 웹 드라이버 경로 설정\n",
    "    driver_path = '/Users/parkjunhyeong/Downloads/chromedriver'\n",
    "\n",
    "    # Selenium 드라이버 실행\n",
    "    driver = webdriver.Chrome(driver_path)\n",
    "\n",
    "    # KOREA EXCHANGE 주식 종목 사이트 접속\n",
    "    driver.get('http://data.krx.co.kr/contents/MMC/ISIF/isif/MMCISIF001.cmd')\n",
    "\n",
    "    # 버튼을 찾아 클릭\n",
    "    button = WebDriverWait(driver, 10).until(EC.element_to_be_clickable((By.XPATH, \"//button[@class='btnSearch CI-STOCK-SEARCH-OPEN']\")))\n",
    "    button.click()\n",
    "\n",
    "    # 검색 입력란에 회사 이름 입력\n",
    "    search_input = WebDriverWait(driver, 10).until(EC.presence_of_element_located((By.ID, 'jsStockSearchLayerWord')))\n",
    "    search_input.clear()\n",
    "    search_input.send_keys(name)\n",
    "\n",
    "    # 엔터 입력\n",
    "    time.sleep(3)\n",
    "    search_input.send_keys(Keys.RETURN)\n",
    "    time.sleep(5)\n",
    "    search_input.send_keys(Keys.RETURN)\n",
    "\n",
    "    # 페이지 로딩을 위해 10초 대기\n",
    "    time.sleep(5)\n",
    "\n",
    "    # HTML 요소를 찾기 위해 JavaScript 실행\n",
    "    element_script = \"document.querySelector('a[data-index=\\\"0\\\"]').click();\"\n",
    "    driver.execute_script(element_script)\n",
    "\n",
    "    # 페이지 로딩을 위해 5초 대기\n",
    "    time.sleep(5)\n",
    "\n",
    "    # 요소의 값을 가져와 변수에 저장\n",
    "    sb_prc = driver.find_element(By.CSS_SELECTOR, 'td[data-bind=\"SB_PRC\"]').text.replace(',', '')\n",
    "    date = datetime.datetime.now().strftime('%Y-%m-%d')\n",
    "    company = driver.find_element(By.CSS_SELECTOR, 'strong[data-bind=\"ISU_NM\"]').text\n",
    "    forn_rto = driver.find_element(By.CSS_SELECTOR, 'td[data-bind=\"FORN_RTO\"]').text\n",
    "    tdd_opnprc = driver.find_element(By.CSS_SELECTOR, 'td[data-bind=\"TDD_OPNPRC\"]').text.replace(',', '')\n",
    "    acc_trdvol = driver.find_element(By.CSS_SELECTOR, 'td[data-bind=\"ACC_TRDVOL\"]').text.replace(',', '')\n",
    "    tdd_hgprc = driver.find_element(By.CSS_SELECTOR, 'td[data-bind=\"TDD_HGPRC\"]').text.replace(',', '')\n",
    "    acc_trdval = driver.find_element(By.CSS_SELECTOR, 'td[data-bind=\"ACC_TRDVAL\"]').text.replace(',', '')\n",
    "    tdd_lwprc = driver.find_element(By.CSS_SELECTOR, 'td[data-bind=\"TDD_LWPRC\"]').text.replace(',', '')\n",
    "    mktcap = driver.find_element(By.CSS_SELECTOR, 'td[data-bind=\"MKTCAP\"]').text.replace(',', '')\n",
    "    wk52_hgst_prc = driver.find_element(By.CSS_SELECTOR, 'td[data-bind=\"WK52_HGST_PRC\"]').text.replace(',', '')\n",
    "    wk52_lwst_prc = driver.find_element(By.CSS_SELECTOR, 'td[data-bind=\"WK52_LWST_PRC\"]').text.replace(',', '')\n",
    "    forn_rto = driver.find_element(By.CSS_SELECTOR, 'td[data-bind=\"FORN_RTO\"]').text.replace(',', '')\n",
    "    per_pbr = driver.find_element(By.CSS_SELECTOR, 'td[data-bind=\"PER_PBR\"]').text.replace(',', '')\n",
    "    sb_prc = driver.find_element(By.CSS_SELECTOR, 'td[data-bind=\"SB_PRC\"]').text.replace(',', '')\n",
    "    div_yd = driver.find_element(By.CSS_SELECTOR, 'td[data-bind=\"DIV_YD\"]').text.replace(',', '')\n",
    "    asst_totamt = driver.find_element(By.CSS_SELECTOR, 'span[data-bind=\"ASST_TOTAMT\"]').text.replace(',', '')\n",
    "    debt_totamt = driver.find_element(By.CSS_SELECTOR, 'span[data-bind=\"DEBT_TOTAMT\"]').text.replace(',', '')\n",
    "    cap = driver.find_element(By.CSS_SELECTOR, 'span[data-bind=\"CAP\"]').text.replace(',', '')\n",
    "    cap_grndtot = driver.find_element(By.CSS_SELECTOR, 'span[data-bind=\"CAP_GRNDTOT\"]').text.replace(',', '')\n",
    "    sales = driver.find_element(By.CSS_SELECTOR, 'span[data-bind=\"SALES\"]').text.replace(',', '')\n",
    "    operproft_amt = driver.find_element(By.CSS_SELECTOR, 'span[data-bind=\"OPERPROFT_AMT\"]').text.replace(',', '')\n",
    "    netincm = driver.find_element(By.CSS_SELECTOR, 'span[data-bind=\"NETINCM\"]').text.replace(',', '')\n",
    "\n",
    "    # 드라이버 종료\n",
    "    driver.quit()\n",
    "\n",
    "    # 데이터 파일이 존재하는지 확인하고, 파일이 없을 경우 빈 데이터프레임 생성\n",
    "    # df_stock = pd.DataFrame(columns=['날짜', '회사', '시가', '거래량', '고가', '거래대금', '저가', '시가총액',\n",
    "    #                            '52주 최고 종가', '52주 최저 종가', '외국인비율', 'PER/PBR', '대용가',\n",
    "    #                            '배당수익률', '자산총계', '부채총계', '자본금', '자본총계', '매출액', '영업이익', '당기순이익'])\n",
    "\n",
    "\n",
    "    # DataFrame 데이터 추가\n",
    "    data = {'날짜': [date], '회사': [company], '시가': [tdd_opnprc], '거래량': [acc_trdvol],\n",
    "            '고가': [tdd_hgprc], '거래대금': [acc_trdval], '저가': [tdd_lwprc], '시가총액': [mktcap],\n",
    "            '52주 최고 종가': [wk52_hgst_prc], '52주 최저 종가': [wk52_lwst_prc], '외국인비율': [forn_rto],\n",
    "            'PER/PBR': [per_pbr], '대용가': [sb_prc], '배당수익률': [div_yd], '자산총계': [asst_totamt],\n",
    "            '부채총계': [debt_totamt], '자본금': [cap], '자본총계': [cap_grndtot], '매출액': [sales],\n",
    "            '영업이익': [operproft_amt], '당기순이익': [netincm]}\n",
    "\n",
    "    df_stock = pd.DataFrame(data)\n",
    "\n",
    "    return df_stock"
   ]
  },
  {
   "cell_type": "markdown",
   "metadata": {},
   "source": [
    "## 6) 금액을 api가 읽을 수 있는 한국어로 바꿔주기 위한 함수"
   ]
  },
  {
   "cell_type": "code",
   "execution_count": 1,
   "metadata": {},
   "outputs": [],
   "source": [
    "#금액 숫자를 text to speech api가 읽을 수 있는 한국어로 바꿔주기 위한 함수 정의\n",
    "def number_to_korean(num):\n",
    "    units = ['', '만', '억', '조', '경']\n",
    "    count = 0\n",
    "    result = ''\n",
    "    while num > 0:\n",
    "        num, mod = divmod(num, 10000)\n",
    "        if mod > 0:\n",
    "            result = '{}{}{}'.format(mod, units[count], result)\n",
    "        count += 1\n",
    "    return result"
   ]
  },
  {
   "cell_type": "markdown",
   "metadata": {},
   "source": [
    "# 1. 사용자로부터 원하는 주식 종목 음성 데이터로 입력받기 "
   ]
  },
  {
   "cell_type": "code",
   "execution_count": null,
   "metadata": {},
   "outputs": [],
   "source": [
    "text = voice_recog()"
   ]
  },
  {
   "cell_type": "markdown",
   "metadata": {},
   "source": [
    "## 1-3. konlpy 활용하여 변환한 문자열에서 주식 종목명만 추출하기"
   ]
  },
  {
   "cell_type": "code",
   "execution_count": 57,
   "metadata": {},
   "outputs": [],
   "source": [
    "#상장 기업 목록 가져오기\n",
    "krx = pd.read_csv('/path/to/KRX_data.csv')\n",
    "companies = krx['Name'].tolist()"
   ]
  },
  {
   "cell_type": "code",
   "execution_count": 58,
   "metadata": {},
   "outputs": [
    {
     "name": "stdout",
     "output_type": "stream",
     "text": [
      "Kkma 명사 추출 : ['삼성', '삼성전자', '전자']\n"
     ]
    }
   ],
   "source": [
    "#konlpy의 kkma 활용해서 명사 단어들만 추출\n",
    "kkma = Kkma()\n",
    "nouns = kkma.nouns(text)\n",
    "#추출 결과 확인 \n",
    "print('Kkma 명사 추출 :', nouns)"
   ]
  },
  {
   "cell_type": "code",
   "execution_count": 59,
   "metadata": {},
   "outputs": [],
   "source": [
    "#추출된 명사들 중 상장된 종목명과 일치하는 것이 있을 경우 company 변수에 저장\n",
    "#없을 경우 \"Company not here\"\n",
    "company = None\n",
    "found = \"no\"\n",
    "\n",
    "for n in nouns:\n",
    "    if n in companies:\n",
    "        company = n\n",
    "        found = \"yes\"\n",
    "        break\n",
    "        \n",
    "if found == \"no\" :\n",
    "    print(\"Company not here.\")"
   ]
  },
  {
   "cell_type": "code",
   "execution_count": 60,
   "metadata": {},
   "outputs": [
    {
     "data": {
      "text/plain": [
       "'삼성전자'"
      ]
     },
     "execution_count": 60,
     "metadata": {},
     "output_type": "execute_result"
    }
   ],
   "source": [
    "company"
   ]
  },
  {
   "cell_type": "markdown",
   "metadata": {},
   "source": [
    "# 2. 시장 전반 뉴스 & 해당 종목에 대한 기업 뉴스 크롤링하기"
   ]
  },
  {
   "cell_type": "markdown",
   "metadata": {},
   "source": [
    "## 2-1. 네이버 증권 뉴스에서 시장 전반 뉴스 크롤링"
   ]
  },
  {
   "cell_type": "markdown",
   "metadata": {},
   "source": [
    "## 2-2. Investing.com에서 해당 종목에 대한 기업 뉴스 크롤링하기"
   ]
  },
  {
   "cell_type": "markdown",
   "metadata": {},
   "source": [
    "# 3. 데이터프레임에서 뉴스 본문 가져와서 요약해주는 코드 (추후 업로드 예정)"
   ]
  },
  {
   "cell_type": "markdown",
   "metadata": {},
   "source": [
    "# 4. 요약된 내용 Text To Speech로 음성 변환해주는 코드 (추가 업로드 예정)"
   ]
  },
  {
   "cell_type": "markdown",
   "metadata": {},
   "source": [
    "# 5. 투자 지표 추출하기"
   ]
  },
  {
   "cell_type": "markdown",
   "metadata": {},
   "source": [
    "## 5-1. 데이터 평활을 통해 주가 추세 요약하기"
   ]
  },
  {
   "cell_type": "code",
   "execution_count": 67,
   "metadata": {},
   "outputs": [
    {
     "name": "stderr",
     "output_type": "stream",
     "text": [
      "/var/folders/z6/nn0fl27x39547ybzc5y11s8m0000gn/T/ipykernel_44957/980035068.py:52: FutureWarning: The frame.append method is deprecated and will be removed from pandas in a future version. Use pandas.concat instead.\n",
      "  df1 = df1.append(df.loc[i])\n",
      "/var/folders/z6/nn0fl27x39547ybzc5y11s8m0000gn/T/ipykernel_44957/980035068.py:52: FutureWarning: The frame.append method is deprecated and will be removed from pandas in a future version. Use pandas.concat instead.\n",
      "  df1 = df1.append(df.loc[i])\n",
      "/var/folders/z6/nn0fl27x39547ybzc5y11s8m0000gn/T/ipykernel_44957/980035068.py:52: FutureWarning: The frame.append method is deprecated and will be removed from pandas in a future version. Use pandas.concat instead.\n",
      "  df1 = df1.append(df.loc[i])\n",
      "/var/folders/z6/nn0fl27x39547ybzc5y11s8m0000gn/T/ipykernel_44957/980035068.py:52: FutureWarning: The frame.append method is deprecated and will be removed from pandas in a future version. Use pandas.concat instead.\n",
      "  df1 = df1.append(df.loc[i])\n",
      "/var/folders/z6/nn0fl27x39547ybzc5y11s8m0000gn/T/ipykernel_44957/980035068.py:52: FutureWarning: The frame.append method is deprecated and will be removed from pandas in a future version. Use pandas.concat instead.\n",
      "  df1 = df1.append(df.loc[i])\n",
      "/var/folders/z6/nn0fl27x39547ybzc5y11s8m0000gn/T/ipykernel_44957/980035068.py:52: FutureWarning: The frame.append method is deprecated and will be removed from pandas in a future version. Use pandas.concat instead.\n",
      "  df1 = df1.append(df.loc[i])\n"
     ]
    }
   ],
   "source": [
    "# 종목 코드 설정 (삼성전자)\n",
    "code = krx[krx['Name'] == company]['Code'][0]\n",
    "\n",
    "# 시작 날짜 설정 (현재 날짜로부터 6달 이전)\n",
    "month = 6 # 사용자의 input값\n",
    "start_date = datetime.datetime.now() - datetime.timedelta(days=month*30)\n",
    "\n",
    "# 주가 데이터 가져오기\n",
    "df = fdr.DataReader(code, start_date)\n",
    "\n",
    "# 'Date'를 열로 가져오기\n",
    "df['Date'] = df.index\n",
    "\n",
    "# 'Close'를 제외한 열 제거\n",
    "df = df[['Date','Close']]\n",
    "\n",
    "# 이동평균(Moving Average) 계산 (기간: 7일) --> 5일, 20일, 60일, 120일\n",
    "win = 7 # 사용자의 input값\n",
    "df['MA'] = df['Close'].rolling(window=win).mean()\n",
    "\n",
    "# 이동평균(Moving Average)를 다시 적용하여 평활화\n",
    "df['Smoothed_MA'] = df['MA'].rolling(window=win).mean()\n",
    "\n",
    "# 이동평균(Moving Average)를 다시 적용하여 평활화\n",
    "df['Smoothed_MA_1'] = df['Smoothed_MA'].rolling(window=win).mean()\n",
    "\n",
    "# 'Date'를 열로 가져오고, 레이블 제거\n",
    "df = df.reset_index(drop=True)\n",
    "\n",
    "# NaN이 포함된 행 제거\n",
    "df = df.dropna()\n",
    "\n",
    "df = df.drop(['Close', 'MA', 'Smoothed_MA'], axis = 1)\n",
    "df.reset_index(drop=True, inplace=True)\n",
    "\n",
    "# 'Diff'열 추가\n",
    "row_count = df.shape[0]\n",
    "for i in range (0,row_count-1) :\n",
    "  df.loc[i+1, 'Diff'] =  df.loc[i+1, 'Smoothed_MA_1'] - df.loc[i, 'Smoothed_MA_1'] \n",
    "\n",
    "# NaN이 포함된 행 제거\n",
    "df = df.dropna()\n",
    "\n",
    "df1 = {'Date': ['2023-01-02'],\n",
    "       'Smoothed_MA_1': [10],\n",
    "       'Diff': [100]}\n",
    "\n",
    "df1 = pd.DataFrame(df1)\n",
    "\n",
    "for i in range (1, row_count-2) :\n",
    "   if df.loc[i+1, 'Diff'] * df.loc[i, 'Diff'] < 0 :\n",
    "        df1 = df1.append(df.loc[i])\n",
    "\n",
    "\n",
    "df1 = df1.drop([0], axis = 0)\n",
    "df1.reset_index(drop=True, inplace=True)"
   ]
  },
  {
   "cell_type": "code",
   "execution_count": 68,
   "metadata": {},
   "outputs": [
    {
     "name": "stdout",
     "output_type": "stream",
     "text": [
      "안녕하세요. 신한AI 주가 추세 분석 AI입니다.\n",
      "요청하신 삼성전자의 최근 6개월 주가 추세를 분석해드리겠습니다.\n",
      "2023년 1월 12일 까지는 하락 추세입니다.\n",
      "설정 기간부터 이 시기까지는 주가가 하락합니다.\n",
      "2023년 2월 13일 까지는 상승 추세입니다.\n",
      "이 기간까지는 5435만큼 하락 주가가 하락하며 최대 9.48%만큼 상승합니다.\n",
      "2023년 2월 16일 까지는 하락 추세입니다.\n",
      "이 기간까지는 48.4만큼 하락 주가가 하락하며 최대 0.08%만큼 하락합니다.\n",
      "2023년 2월 24일 까지는 상승 추세입니다.\n",
      "이 기간까지는 45만큼 하락 주가가 하락하며 최대 0.07%만큼 상승합니다.\n",
      "2023년 3월 24일 까지는 하락 추세입니다.\n",
      "이 기간까지는 2615.74만큼 하락 주가가 하락하며 최대 4.17%만큼 하락합니다.\n",
      "\n"
     ]
    }
   ],
   "source": [
    "row_count_1 = df1.shape[0]\n",
    "result_str = '안녕하세요. 신한AI 주가 추세 분석 AI입니다.\\n'\n",
    "result_str += '요청하신 삼성전자의 최근 {}개월 주가 추세를 분석해드리겠습니다.\\n'.format(month)\n",
    "\n",
    "for i in range(0, row_count_1 - 1):\n",
    "    if df1.loc[i, 'Diff'] < 0:\n",
    "        a = df1.loc[i, 'Date'].year\n",
    "        b = df1.loc[i, 'Date'].month\n",
    "        c = df1.loc[i, 'Date'].day\n",
    "        result_str += '{}년 {}월 {}일 까지는 하락 추세입니다.\\n'.format(a, b, c)\n",
    "        if i == 0:\n",
    "            result_str += '설정 기간부터 이 시기까지는 주가가 하락합니다.\\n'\n",
    "        else:\n",
    "            d = abs(round(df1.loc[i, 'Smoothed_MA_1'] - df1.loc[i - 1, 'Smoothed_MA_1'],2))\n",
    "            e = abs(round(((df1.loc[i, 'Smoothed_MA_1'] - df1.loc[i - 1, 'Smoothed_MA_1']) / df1.loc[i - 1, 'Smoothed_MA_1']) * 100, 2))\n",
    "            result_str += '이 기간까지는 {}만큼 하락 주가가 하락하며 최대 {}%만큼 하락합니다.\\n'.format(d, e)\n",
    "    if df1.loc[i, 'Diff'] > 0:\n",
    "        a = df1.loc[i, 'Date'].year\n",
    "        b = df1.loc[i, 'Date'].month\n",
    "        c = df1.loc[i, 'Date'].day\n",
    "        result_str += '{}년 {}월 {}일 까지는 상승 추세입니다.\\n'.format(a, b, c)\n",
    "        if i == 0:\n",
    "            result_str += '설정 기간부터 이 시기까지는 주가가 상승합니다.\\n'\n",
    "        else:\n",
    "            d = abs(round(df1.loc[i - 1, 'Smoothed_MA_1'] - df1.loc[i, 'Smoothed_MA_1']))\n",
    "            e = abs(round(((df1.loc[i, 'Smoothed_MA_1'] - df1.loc[i - 1, 'Smoothed_MA_1']) / df1.loc[i - 1, 'Smoothed_MA_1']) * 100, 2))\n",
    "            result_str += '이 기간까지는 {}만큼 하락 주가가 하락하며 최대 {}%만큼 상승합니다.\\n'.format(d, e)\n",
    "            \n",
    "print(result_str)"
   ]
  },
  {
   "cell_type": "code",
   "execution_count": 69,
   "metadata": {},
   "outputs": [],
   "source": [
    "#결과 문자열 음성 파일로 저장\n",
    "synthesize_text(result_str)"
   ]
  },
  {
   "cell_type": "markdown",
   "metadata": {},
   "source": [
    "## 5-2. 종목 정보 크롤링하기"
   ]
  },
  {
   "cell_type": "markdown",
   "metadata": {},
   "source": [
    "## 5-3. 사용자로부터 원하는 항목 입력받기"
   ]
  },
  {
   "cell_type": "code",
   "execution_count": 144,
   "metadata": {},
   "outputs": [
    {
     "name": "stdout",
     "output_type": "stream",
     "text": [
      "음성을 입력하세요.\n",
      "음성변환 : 삼성전자의 고가 저가 배당수익률에 대해 알려 줘\n"
     ]
    }
   ],
   "source": [
    "text = voice_recog()"
   ]
  },
  {
   "cell_type": "markdown",
   "metadata": {},
   "source": [
    "## 5-4. 종목 정보 DF 내용 문자열로 바꾼 뒤 음성 파일로 변환하기"
   ]
  },
  {
   "cell_type": "code",
   "execution_count": 137,
   "metadata": {},
   "outputs": [
    {
     "data": {
      "text/html": [
       "<div>\n",
       "<style scoped>\n",
       "    .dataframe tbody tr th:only-of-type {\n",
       "        vertical-align: middle;\n",
       "    }\n",
       "\n",
       "    .dataframe tbody tr th {\n",
       "        vertical-align: top;\n",
       "    }\n",
       "\n",
       "    .dataframe thead th {\n",
       "        text-align: right;\n",
       "    }\n",
       "</style>\n",
       "<table border=\"1\" class=\"dataframe\">\n",
       "  <thead>\n",
       "    <tr style=\"text-align: right;\">\n",
       "      <th></th>\n",
       "      <th>0</th>\n",
       "    </tr>\n",
       "  </thead>\n",
       "  <tbody>\n",
       "    <tr>\n",
       "      <th>날짜</th>\n",
       "      <td>2023-05-12</td>\n",
       "    </tr>\n",
       "    <tr>\n",
       "      <th>회사</th>\n",
       "      <td>삼성전자</td>\n",
       "    </tr>\n",
       "    <tr>\n",
       "      <th>시가</th>\n",
       "      <td>6만3700</td>\n",
       "    </tr>\n",
       "    <tr>\n",
       "      <th>거래량</th>\n",
       "      <td>869만3913</td>\n",
       "    </tr>\n",
       "    <tr>\n",
       "      <th>고가</th>\n",
       "      <td>6만4600</td>\n",
       "    </tr>\n",
       "    <tr>\n",
       "      <th>거래대금</th>\n",
       "      <td>55만7964</td>\n",
       "    </tr>\n",
       "    <tr>\n",
       "      <th>저가</th>\n",
       "      <td>6만3600</td>\n",
       "    </tr>\n",
       "    <tr>\n",
       "      <th>시가총액</th>\n",
       "      <td>3억8266만3061</td>\n",
       "    </tr>\n",
       "    <tr>\n",
       "      <th>52주 최고 종가</th>\n",
       "      <td>6만8100</td>\n",
       "    </tr>\n",
       "    <tr>\n",
       "      <th>52주 최저 종가</th>\n",
       "      <td>5만2600</td>\n",
       "    </tr>\n",
       "    <tr>\n",
       "      <th>외국인비율</th>\n",
       "      <td>51.93</td>\n",
       "    </tr>\n",
       "    <tr>\n",
       "      <th>PER/PBR</th>\n",
       "      <td>7.96/1.11</td>\n",
       "    </tr>\n",
       "    <tr>\n",
       "      <th>대용가</th>\n",
       "      <td>5만1360</td>\n",
       "    </tr>\n",
       "    <tr>\n",
       "      <th>배당수익률</th>\n",
       "      <td>2.25</td>\n",
       "    </tr>\n",
       "    <tr>\n",
       "      <th>자산총계</th>\n",
       "      <td>448조4245억700만</td>\n",
       "    </tr>\n",
       "    <tr>\n",
       "      <th>부채총계</th>\n",
       "      <td>93조6749억300만</td>\n",
       "    </tr>\n",
       "    <tr>\n",
       "      <th>자본금</th>\n",
       "      <td>8975억1400만</td>\n",
       "    </tr>\n",
       "    <tr>\n",
       "      <th>자본총계</th>\n",
       "      <td>354조7496억400만</td>\n",
       "    </tr>\n",
       "    <tr>\n",
       "      <th>매출액</th>\n",
       "      <td>302조2313억6000만</td>\n",
       "    </tr>\n",
       "    <tr>\n",
       "      <th>영업이익</th>\n",
       "      <td>43조3766억3000만</td>\n",
       "    </tr>\n",
       "    <tr>\n",
       "      <th>당기순이익</th>\n",
       "      <td>55조6540억7700만</td>\n",
       "    </tr>\n",
       "  </tbody>\n",
       "</table>\n",
       "</div>"
      ],
      "text/plain": [
       "                        0\n",
       "날짜             2023-05-12\n",
       "회사                   삼성전자\n",
       "시가                 6만3700\n",
       "거래량              869만3913\n",
       "고가                 6만4600\n",
       "거래대금              55만7964\n",
       "저가                 6만3600\n",
       "시가총액          3억8266만3061\n",
       "52주 최고 종가          6만8100\n",
       "52주 최저 종가          5만2600\n",
       "외국인비율               51.93\n",
       "PER/PBR         7.96/1.11\n",
       "대용가                5만1360\n",
       "배당수익률                2.25\n",
       "자산총계        448조4245억700만\n",
       "부채총계         93조6749억300만\n",
       "자본금            8975억1400만\n",
       "자본총계        354조7496억400만\n",
       "매출액        302조2313억6000만\n",
       "영업이익        43조3766억3000만\n",
       "당기순이익       55조6540억7700만"
      ]
     },
     "execution_count": 137,
     "metadata": {},
     "output_type": "execute_result"
    }
   ],
   "source": [
    "col_list = ['시가', '거래량', '고가', '거래대금', '저가', '시가총액', '52주 최고 종가','52주 최저 종가','대용가','자산총계', '부채총계', \n",
    "            '자본금','자본총계', '매출액', '영업이익', '당기순이익']\n",
    "\n",
    "for col in col_list: \n",
    "    df_stock[col] = number_to_korean(int(df_stock[col][0]))\n",
    "\n",
    "df_stock.T"
   ]
  },
  {
   "cell_type": "code",
   "execution_count": 138,
   "metadata": {},
   "outputs": [],
   "source": [
    "#음성 변환할 문자열 만들기\n",
    "df_stock\n",
    "\n",
    "response_str = '안녕하세요. 신한AI 주가 추세 분석 AI입니다.\\n'\n",
    "response_str += '{}년 {}월 {}일 {}의 주식 정보에 대해 안내해 드리겠습니다.\\n'.format(df_stock['날짜'][0][:4],\n",
    "                                                                df_stock['날짜'][0][5:7],\n",
    "                                                                df_stock['날짜'][0][8:],\n",
    "                                                                df_stock['회사'][0])\n",
    "for col in col_list:\n",
    "    if col in text:\n",
    "        response_str += \"{} : {}원.\\n\".format(col, df_stock[col][0])\n",
    "\n",
    "if 'PER' in text:\n",
    "    response_str += \"PER: {}.\\n\".format(df_stock['PER/PBR'][0].split('/')[0])\n",
    "elif 'PBR' in text:\n",
    "    response_str += \"PBR: {}.\\n\".format(df_stock['PER/PBR'][0].split('/')[1])\n",
    "elif '배당수익률' in text:\n",
    "    response_str += \"배당수익률은 {}%입니다.\".format(df_stock['배당수익률'][0])"
   ]
  },
  {
   "cell_type": "code",
   "execution_count": 139,
   "metadata": {},
   "outputs": [],
   "source": [
    "synthesize_text(response_str)"
   ]
  },
  {
   "cell_type": "code",
   "execution_count": 140,
   "metadata": {},
   "outputs": [
    {
     "data": {
      "text/plain": [
       "'안녕하세요. 신한AI 주가 추세 분석 AI입니다.\\n2023년 05월 12일 삼성전자의 주식 정보에 대해 안내해 드리겠습니다.\\n시가 : 6만3700원.\\n고가 : 6만4600원.\\n그리고 배당수익률은 2.25%입니다.'"
      ]
     },
     "execution_count": 140,
     "metadata": {},
     "output_type": "execute_result"
    }
   ],
   "source": [
    "response_str"
   ]
  },
  {
   "cell_type": "code",
   "execution_count": 141,
   "metadata": {},
   "outputs": [
    {
     "data": {
      "text/plain": [
       "0"
      ]
     },
     "execution_count": 141,
     "metadata": {},
     "output_type": "execute_result"
    }
   ],
   "source": [
    "subprocess.call(['afplay', 'output.wav'])"
   ]
  },
  {
   "cell_type": "code",
   "execution_count": null,
   "metadata": {},
   "outputs": [],
   "source": []
  }
 ],
 "metadata": {
  "colab": {
   "private_outputs": true,
   "provenance": []
  },
  "kernelspec": {
   "display_name": "Python 3 (ipykernel)",
   "language": "python",
   "name": "python3"
  },
  "language_info": {
   "codemirror_mode": {
    "name": "ipython",
    "version": 3
   },
   "file_extension": ".py",
   "mimetype": "text/x-python",
   "name": "python",
   "nbconvert_exporter": "python",
   "pygments_lexer": "ipython3",
   "version": "3.9.12"
  }
 },
 "nbformat": 4,
 "nbformat_minor": 1
}
