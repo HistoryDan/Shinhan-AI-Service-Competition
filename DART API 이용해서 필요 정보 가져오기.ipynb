{
 "cells": [
  {
   "cell_type": "code",
   "execution_count": 62,
   "id": "fb2e9981",
   "metadata": {},
   "outputs": [],
   "source": [
    "import pandas as pd\n",
    "import numpy as np\n",
    "import dart_fss as dart"
   ]
  },
  {
   "cell_type": "code",
   "execution_count": 63,
   "id": "841f1cab",
   "metadata": {},
   "outputs": [],
   "source": [
    "#사용자에게 정보 제공하기 위한 데이터프레임 만들기\n",
    "col_list = ['매출액', '영업이익', '당기순이익', '영업이익률', '순이익률', 'EPS', \n",
    "            'ROE', 'ROA', '자산총계', '부채총계', '자본총계', '부채비율']\n",
    "index_list = [company + '2022', company + '2021', company + '2020']\n",
    "df = pd.DataFrame(columns = col_list, index = index_list)"
   ]
  },
  {
   "cell_type": "code",
   "execution_count": 70,
   "id": "fcb24cbb",
   "metadata": {},
   "outputs": [
    {
     "name": "stdout",
     "output_type": "stream",
     "text": [
      "삼성전자\n"
     ]
    }
   ],
   "source": [
    "#사용자로부터 원하는 기업명 입력받기\n",
    "company = input()"
   ]
  },
  {
   "cell_type": "code",
   "execution_count": 71,
   "id": "0b612bfb",
   "metadata": {},
   "outputs": [
    {
     "data": {
      "application/vnd.jupyter.widget-view+json": {
       "model_id": "e088d76528e44045a4dfe10b3bf56471",
       "version_major": 2,
       "version_minor": 0
      },
      "text/plain": [
       "Annual reports:   0%|          | 0/1 [00:00<?, ?report/s]"
      ]
     },
     "metadata": {},
     "output_type": "display_data"
    }
   ],
   "source": [
    "#OPEN DART API key 설정\n",
    "api_key = 'c60afaa1f54d82997cd25ff8c6712e5421ad72f5'\n",
    "dart.set_api_key(api_key = api_key)\n",
    "\n",
    "#DART에 공시된 회사 리스트 불러오기\n",
    "corp_list = dart.get_corp_list()\n",
    "\n",
    "#삼성전자 검색\n",
    "samsung = corp_list.find_by_corp_name(company, exactly=True)[0]\n",
    "\n",
    "#2022년 연간 연결재무제표 불러오기\n",
    "fs = samsung.extract_fs(bgn_de='20230101')\n",
    "\n",
    "#손익계산서 불러오기\n",
    "df_is = fs['is']\n",
    "\n",
    "#index와 data 분리하여 정리\n",
    "index = df_is['[D310000] Income statement, by function of expense - Consolidated financial statements (Unit: KRW)']['label_ko']\n",
    "income_statement = df_is[['20220101-20221231','20210101-20211231','20200101-20201231']].droplevel(1, axis = 1)\n",
    "income_statement.columns = [company+'2022', company+'2021', company+'2020']\n",
    "income_statement.index = index\n",
    "\n",
    "#재무상태표 불러오기\n",
    "df_bs = fs['bs']\n",
    "index = df_bs['[D210000] Statement of financial position, current/non-current - Consolidated financial statements (Unit: KRW)']['label_ko']\n",
    "balance_sheet = df_bs[['20221231','20211231','20201231']].droplevel(1, axis = 1)\n",
    "balance_sheet.columns = [company+'2022', company+'2021', company+'2020']\n",
    "balance_sheet.index = index"
   ]
  },
  {
   "cell_type": "code",
   "execution_count": 74,
   "id": "de87fc2c",
   "metadata": {},
   "outputs": [],
   "source": [
    "#손익 계산서와 재무상태표에서 필요한 정보 가져오기\n",
    "for i in index_list:\n",
    "    #매출액\n",
    "    df.loc[i, '매출액'] = income_statement.loc['수익(매출액)', i]\n",
    "    #영업이익\n",
    "    df.loc[i, '영업이익'] = income_statement.loc['영업이익', i]\n",
    "    #당기순이익\n",
    "    df.loc[i, '당기순이익'] = income_statement.loc['당기순이익(손실)', i]\n",
    "    #영업이익률\n",
    "    df.loc[i, '영업이익률'] = (income_statement.loc['영업이익', i] / income_statement.loc['수익(매출액)', i])\n",
    "    #순이익률\n",
    "    df.loc[i, '순이익률'] = (income_statement.loc['당기순이익(손실)', i] / income_statement.loc['수익(매출액)', i])\n",
    "    #EPS\n",
    "    df.loc[i, 'EPS'] = income_statement.loc['기본주당이익(손실)', i]\n",
    "    #ROE\n",
    "    df.loc[i, 'ROE'] = (income_statement.loc['당기순이익(손실)', i] / balance_sheet.loc['자본총계', i])\n",
    "    #ROA\n",
    "    df.loc[i, 'ROA'] = (income_statement.loc['당기순이익(손실)', i] / balance_sheet.loc['자산총계', i])\n",
    "    #자산총계\n",
    "    df.loc[i, '자산총계'] = balance_sheet.loc['자산총계', i]\n",
    "    #부채총계\n",
    "    df.loc[i, '부채총계'] = balance_sheet.loc['부채총계', i]\n",
    "    #자본총계\n",
    "    df.loc[i, '자본총계'] = balance_sheet.loc['자본총계', i]\n",
    "    #부채비율\n",
    "    df.loc[i, '부채비율'] = (balance_sheet.loc['부채총계', i] / balance_sheet.loc['자본총계', i])"
   ]
  },
  {
   "cell_type": "code",
   "execution_count": 75,
   "id": "870090ba",
   "metadata": {},
   "outputs": [
    {
     "data": {
      "text/html": [
       "<div>\n",
       "<style scoped>\n",
       "    .dataframe tbody tr th:only-of-type {\n",
       "        vertical-align: middle;\n",
       "    }\n",
       "\n",
       "    .dataframe tbody tr th {\n",
       "        vertical-align: top;\n",
       "    }\n",
       "\n",
       "    .dataframe thead th {\n",
       "        text-align: right;\n",
       "    }\n",
       "</style>\n",
       "<table border=\"1\" class=\"dataframe\">\n",
       "  <thead>\n",
       "    <tr style=\"text-align: right;\">\n",
       "      <th></th>\n",
       "      <th>매출액</th>\n",
       "      <th>영업이익</th>\n",
       "      <th>당기순이익</th>\n",
       "      <th>영업이익률</th>\n",
       "      <th>순이익률</th>\n",
       "      <th>EPS</th>\n",
       "      <th>ROE</th>\n",
       "      <th>ROA</th>\n",
       "      <th>자산총계</th>\n",
       "      <th>부채총계</th>\n",
       "      <th>자본총계</th>\n",
       "      <th>부채비율</th>\n",
       "    </tr>\n",
       "  </thead>\n",
       "  <tbody>\n",
       "    <tr>\n",
       "      <th>삼성전자2022</th>\n",
       "      <td>302,231,360,000,000.0</td>\n",
       "      <td>43,376,630,000,000.0</td>\n",
       "      <td>55,654,077,000,000.0</td>\n",
       "      <td>0.1435212745626397</td>\n",
       "      <td>0.1841439518387503</td>\n",
       "      <td>8,057.0</td>\n",
       "      <td>0.15688270366610474</td>\n",
       "      <td>0.1241102485061103</td>\n",
       "      <td>448,424,507,000,000.0</td>\n",
       "      <td>93,674,903,000,000.0</td>\n",
       "      <td>354,749,604,000,000.0</td>\n",
       "      <td>0.26405921794911996</td>\n",
       "    </tr>\n",
       "    <tr>\n",
       "      <th>삼성전자2021</th>\n",
       "      <td>279,604,799,000,000.0</td>\n",
       "      <td>51,633,856,000,000.0</td>\n",
       "      <td>39,907,450,000,000.0</td>\n",
       "      <td>0.18466727389754137</td>\n",
       "      <td>0.14272805811176367</td>\n",
       "      <td>5,777.0</td>\n",
       "      <td>0.1308870417553489</td>\n",
       "      <td>0.09354306332833122</td>\n",
       "      <td>426,621,158,000,000.0</td>\n",
       "      <td>121,721,227,000,000.0</td>\n",
       "      <td>304,899,931,000,000.0</td>\n",
       "      <td>0.39921697128885214</td>\n",
       "    </tr>\n",
       "    <tr>\n",
       "      <th>삼성전자2020</th>\n",
       "      <td>236,806,988,000,000.0</td>\n",
       "      <td>35,993,876,000,000.0</td>\n",
       "      <td>26,407,832,000,000.0</td>\n",
       "      <td>0.15199668009797077</td>\n",
       "      <td>0.1115162699506148</td>\n",
       "      <td>3,841.0</td>\n",
       "      <td>0.0956985753432632</td>\n",
       "      <td>0.0698184511490266</td>\n",
       "      <td>378,235,718,000,000.0</td>\n",
       "      <td>102,287,702,000,000.0</td>\n",
       "      <td>275,948,016,000,000.0</td>\n",
       "      <td>0.3706774322305691</td>\n",
       "    </tr>\n",
       "  </tbody>\n",
       "</table>\n",
       "</div>"
      ],
      "text/plain": [
       "                           매출액                 영업이익                당기순이익  \\\n",
       "삼성전자2022 302,231,360,000,000.0 43,376,630,000,000.0 55,654,077,000,000.0   \n",
       "삼성전자2021 279,604,799,000,000.0 51,633,856,000,000.0 39,907,450,000,000.0   \n",
       "삼성전자2020 236,806,988,000,000.0 35,993,876,000,000.0 26,407,832,000,000.0   \n",
       "\n",
       "                       영업이익률                순이익률     EPS                 ROE  \\\n",
       "삼성전자2022  0.1435212745626397  0.1841439518387503 8,057.0 0.15688270366610474   \n",
       "삼성전자2021 0.18466727389754137 0.14272805811176367 5,777.0  0.1308870417553489   \n",
       "삼성전자2020 0.15199668009797077  0.1115162699506148 3,841.0  0.0956985753432632   \n",
       "\n",
       "                         ROA                  자산총계                  부채총계  \\\n",
       "삼성전자2022  0.1241102485061103 448,424,507,000,000.0  93,674,903,000,000.0   \n",
       "삼성전자2021 0.09354306332833122 426,621,158,000,000.0 121,721,227,000,000.0   \n",
       "삼성전자2020  0.0698184511490266 378,235,718,000,000.0 102,287,702,000,000.0   \n",
       "\n",
       "                          자본총계                부채비율  \n",
       "삼성전자2022 354,749,604,000,000.0 0.26405921794911996  \n",
       "삼성전자2021 304,899,931,000,000.0 0.39921697128885214  \n",
       "삼성전자2020 275,948,016,000,000.0  0.3706774322305691  "
      ]
     },
     "execution_count": 75,
     "metadata": {},
     "output_type": "execute_result"
    }
   ],
   "source": [
    "df"
   ]
  },
  {
   "cell_type": "code",
   "execution_count": null,
   "id": "504263a1",
   "metadata": {},
   "outputs": [],
   "source": []
  }
 ],
 "metadata": {
  "kernelspec": {
   "display_name": "Python 3 (ipykernel)",
   "language": "python",
   "name": "python3"
  },
  "language_info": {
   "codemirror_mode": {
    "name": "ipython",
    "version": 3
   },
   "file_extension": ".py",
   "mimetype": "text/x-python",
   "name": "python",
   "nbconvert_exporter": "python",
   "pygments_lexer": "ipython3",
   "version": "3.9.12"
  }
 },
 "nbformat": 4,
 "nbformat_minor": 5
}
