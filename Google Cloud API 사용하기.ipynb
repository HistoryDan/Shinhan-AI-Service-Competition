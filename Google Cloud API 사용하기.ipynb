{
 "cells": [
  {
   "cell_type": "code",
   "execution_count": 1,
   "id": "a8a1b12d",
   "metadata": {},
   "outputs": [],
   "source": [
    "#필요 모듈 임포트\n",
    "from google.cloud import texttospeech\n",
    "from google.cloud import speech\n",
    "from pydub import AudioSegment\n",
    "from konlpy.tag import Okt\n",
    "from konlpy.tag import Kkma\n",
    "from selenium import webdriver\n",
    "from bs4 import BeautifulSoup\n",
    "import pandas as pd\n",
    "import numpy as np\n",
    "import time\n",
    "import os\n",
    "import io"
   ]
  },
  {
   "cell_type": "markdown",
   "id": "16d0ecdc",
   "metadata": {},
   "source": [
    "# 1. Google Cloud Text-To-Speech API 사용하기"
   ]
  },
  {
   "cell_type": "code",
   "execution_count": 299,
   "id": "5c3d9d21",
   "metadata": {},
   "outputs": [],
   "source": [
    "os.environ['GOOGLE_APPLICATION_CREDENTIALS'] = './tts_key.json' #경로 자기에 맞게 설정\n",
    "\n",
    "def synthesize_text(text):\n",
    "    client = texttospeech.TextToSpeechClient()\n",
    "\n",
    "    input_text = texttospeech.SynthesisInput(text=text)\n",
    "\n",
    "    voice = texttospeech.VoiceSelectionParams(\n",
    "        language_code='ko-KR',\n",
    "        ssml_gender=texttospeech.SsmlVoiceGender.NEUTRAL)\n",
    "\n",
    "    audio_config = texttospeech.AudioConfig(\n",
    "        audio_encoding=texttospeech.AudioEncoding.LINEAR16)\n",
    "\n",
    "    response = client.synthesize_speech(\n",
    "        input=input_text,\n",
    "        voice=voice,\n",
    "        audio_config=audio_config)\n",
    "\n",
    "    with open('output.wav', 'wb') as out:\n",
    "        out.write(response.audio_content)"
   ]
  },
  {
   "cell_type": "code",
   "execution_count": 300,
   "id": "68b102da",
   "metadata": {},
   "outputs": [],
   "source": [
    "#text to speech 실행하기\n",
    "synthesize_text(\"삼성전자에 대해 알려줘.\")"
   ]
  },
  {
   "cell_type": "markdown",
   "id": "da3471a5",
   "metadata": {},
   "source": [
    "# 2. Google Cloud Speech-To-Text API 사용하기"
   ]
  },
  {
   "cell_type": "markdown",
   "id": "33bc7dd2",
   "metadata": {},
   "source": [
    "## 2-1. 음성 파일 wav파일로 변환하기"
   ]
  },
  {
   "cell_type": "code",
   "execution_count": 301,
   "id": "9f160a17",
   "metadata": {},
   "outputs": [],
   "source": [
    "m4a_file = './019.m4a'\n",
    "wav_filename = './019.wav'\n",
    "track = AudioSegment.from_file(m4a_file,  format= 'm4a')\n",
    "file_handle = track.export(wav_filename, format='wav')"
   ]
  },
  {
   "cell_type": "markdown",
   "id": "fcbf6fef",
   "metadata": {},
   "source": [
    "## 2-2. 음성파일 텍스트로 변환하기"
   ]
  },
  {
   "cell_type": "code",
   "execution_count": 302,
   "id": "367422bc",
   "metadata": {},
   "outputs": [],
   "source": [
    "client = speech.SpeechClient.from_service_account_json('./stt_key.json')\n",
    "\n",
    "def transcribe_file(speech_file):\n",
    "    with io.open(speech_file, 'rb') as audio_file:\n",
    "        content = audio_file.read()\n",
    "\n",
    "    audio = speech.RecognitionAudio(content=content)\n",
    "\n",
    "# 파일 인코딩 형식에 맞게 그때 그때 변경해주어야 함\n",
    "    config = speech.RecognitionConfig(\n",
    "#         encoding='LINEAR16',\n",
    "#         sample_rate_hertz=44100, \n",
    "        language_code='ko-KR',\n",
    "        model='default',\n",
    "        enable_word_time_offsets=True,\n",
    "        enable_automatic_punctuation=True\n",
    "    )\n",
    "\n",
    "    response = client.recognize(config=config, audio=audio)\n",
    "\n",
    "    for result in response.results:\n",
    "        print('{}'.format(result.alternatives[0].transcript))\n",
    "        return result.alternatives[0].transcript"
   ]
  },
  {
   "cell_type": "code",
   "execution_count": 303,
   "id": "fd1a56b9",
   "metadata": {},
   "outputs": [
    {
     "name": "stdout",
     "output_type": "stream",
     "text": [
      "삼성전자에 대해서 알려 줘.\n"
     ]
    }
   ],
   "source": [
    "text = transcribe_file('./019.wav')"
   ]
  },
  {
   "cell_type": "markdown",
   "id": "b27d2193",
   "metadata": {},
   "source": [
    "## 2-3. 인풋으로 받은 텍스트에서 주식 종목 추출하기"
   ]
  },
  {
   "cell_type": "code",
   "execution_count": 304,
   "id": "e5fa7075",
   "metadata": {},
   "outputs": [],
   "source": [
    "#kospi 상장 기업 목록 가져오기\n",
    "krx = pd.read_csv('/Users/parkjunhyeong/Desktop/박준형/02. 대내 및 대외활동/02. 대외활동/03. 신한AI 공모전/01. 소스/01. 데이터/KRX_data.csv')\n",
    "companies = krx['Name'].tolist()"
   ]
  },
  {
   "cell_type": "code",
   "execution_count": 305,
   "id": "a9b88a0d",
   "metadata": {},
   "outputs": [],
   "source": [
    "kkma = Kkma()"
   ]
  },
  {
   "cell_type": "code",
   "execution_count": 306,
   "id": "b1327c23",
   "metadata": {},
   "outputs": [
    {
     "name": "stdout",
     "output_type": "stream",
     "text": [
      "Kkma 명사 추출 : ['삼성', '삼성전자', '전자']\n"
     ]
    }
   ],
   "source": [
    "nouns = kkma.nouns(text)\n",
    "print('Kkma 명사 추출 :', nouns)"
   ]
  },
  {
   "cell_type": "code",
   "execution_count": 307,
   "id": "55726ec7",
   "metadata": {},
   "outputs": [],
   "source": [
    "company = None\n",
    "found = \"no\"\n",
    "\n",
    "for n in nouns:\n",
    "    if n in companies:\n",
    "        company = n\n",
    "        found = \"yes\"\n",
    "        break\n",
    "        \n",
    "if found == \"no\" :\n",
    "    print(\"Company not here.\")"
   ]
  },
  {
   "cell_type": "code",
   "execution_count": 308,
   "id": "bee23310",
   "metadata": {},
   "outputs": [
    {
     "data": {
      "text/plain": [
       "'삼성전자'"
      ]
     },
     "execution_count": 308,
     "metadata": {},
     "output_type": "execute_result"
    }
   ],
   "source": [
    "company"
   ]
  }
 ],
 "metadata": {
  "kernelspec": {
   "display_name": "Python 3 (ipykernel)",
   "language": "python",
   "name": "python3"
  },
  "language_info": {
   "codemirror_mode": {
    "name": "ipython",
    "version": 3
   },
   "file_extension": ".py",
   "mimetype": "text/x-python",
   "name": "python",
   "nbconvert_exporter": "python",
   "pygments_lexer": "ipython3",
   "version": "3.9.12"
  }
 },
 "nbformat": 4,
 "nbformat_minor": 5
}
